{
 "cells": [
  {
   "cell_type": "code",
   "execution_count": 1,
   "metadata": {},
   "outputs": [
    {
     "name": "stdout",
     "output_type": "stream",
     "text": [
      "True\n",
      "False\n",
      "Found a match!\n",
      "Found a match!\n",
      "Found a match!\n",
      "Found a match!\n",
      "Not matched!\n",
      "Not matched!\n",
      "Found a match!\n",
      "Not matched!\n"
     ]
    }
   ],
   "source": [
    "import re \n",
    "def is_allowed_specific_char(string): \n",
    " charRe = re.compile(r'[^a-zA-Z0-9.]') \n",
    " string = charRe.search(string) \n",
    " return not bool(string) \n",
    "print(is_allowed_specific_char(\"ABCDEFabcdef123450\"))  \n",
    "print(is_allowed_specific_char(\"*&%@#!}{\")) \n",
    "\n",
    "def text_match(text): \n",
    "  patterns = 'ab*?' \n",
    "  if re.search(patterns, text): \n",
    "      return 'Found a match!' \n",
    "  else: \n",
    "      return('Not matched!') \n",
    "print(text_match(\"ac\")) \n",
    "print(text_match(\"abc\")) \n",
    "print(text_match(\"abbc\"))\n",
    "\n",
    "import re \n",
    "def text_match(text):\n",
    "  patterns = '^[a-z]+_[a-z]+$' \n",
    "  if re.search(patterns, text): \n",
    "     return 'Found a match!' \n",
    "  else: \n",
    "     return('Not matched!') \n",
    "print(text_match(\"aab_cbbbc\")) \n",
    "print(text_match(\"aab_Abbbc\")) \n",
    "print(text_match(\"Aaab_abbbc\")) \n",
    "\n",
    "import re \n",
    "def text_match(text): \n",
    "  patterns = '^\\w+' \n",
    "  if re.search(patterns, text): \n",
    "    return 'Found a match!' \n",
    "  else: \n",
    "     return('Not matched!') \n",
    "print(text_match(\"The quick brown fox jumps over the lazy dog.\")) \n",
    "print(text_match(\" The quick brown fox jumps over the lazy dog.\")) \n"
   ]
  }
 ],
 "metadata": {
  "interpreter": {
   "hash": "da7773864c198c8559e499b8a6d42753464881661d1a635729c4702e1dcc7c46"
  },
  "kernelspec": {
   "display_name": "Python 3.9.7 64-bit",
   "name": "python3"
  },
  "language_info": {
   "codemirror_mode": {
    "name": "ipython",
    "version": 3
   },
   "file_extension": ".py",
   "mimetype": "text/x-python",
   "name": "python",
   "nbconvert_exporter": "python",
   "pygments_lexer": "ipython3",
   "version": "3.9.9"
  },
  "orig_nbformat": 4
 },
 "nbformat": 4,
 "nbformat_minor": 2
}
