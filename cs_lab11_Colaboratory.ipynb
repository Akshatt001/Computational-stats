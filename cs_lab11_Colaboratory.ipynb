{
 "cells": [
  {
   "cell_type": "code",
   "execution_count": 3,
   "metadata": {},
   "outputs": [
    {
     "name": "stdout",
     "output_type": "stream",
     "text": [
      "psicurrent= 0.4748904617458713 \n",
      "\n",
      "psicurrent= 0.4925095165605432 \n",
      "\n",
      "psicurrent= 0.4930895947898109 \n",
      "\n",
      "psicurrent= 0.4931085311149195 \n",
      "\n"
     ]
    }
   ],
   "source": [
    "def emalgo(y1,y2,y3,y4,tol=0.0005,start0=0.2): \n",
    "  \n",
    "    #EM algorithm for Rao's multinomial model  \n",
    "        #  #y1,y2,y_3,y_4 are the observed frequencies  #  \n",
    "#Initializations  \n",
    "    psilast=0;  \n",
    "    n=y1+y2+y3+y4;  \n",
    "    psicurrent=start0;  \n",
    "    psi=psicurrent;  \n",
    "    while (abs(psilast-psi)>tol ):\n",
    "       v=estep(psicurrent,y1)  \n",
    "       y11=v[0]  \n",
    "       y12=v[1]  \n",
    "       psi=mstep(y12,y11,y4,n)  \n",
    "       psilast=psicurrent  \n",
    "       psicurrent=psi  \n",
    "       print('psicurrent=',psicurrent,'\\n')  \n",
    "        \n",
    " \n",
    "def mstep(y12,y11,y4,n): \n",
    "    return((y12+y4)/(n-y11)) \n",
    " \n",
    "def estep(psicurrent,y1):  \n",
    "     y11=(.5*y1)/(.5+psicurrent/4);  \n",
    "     y12=y1-y11  \n",
    "     return([y11,y12]) \n",
    "\n",
    "tol=0.0005;  \n",
    "start0=.05;  \n",
    "y1,y2,y3,y4=15,18,20,34\n",
    "emalgo(y1,y2,y3,y4,tol,start0) \n",
    "#print(emalgo(y1,y2,y3,y4,10^(-7),start0))"
   ]
  }
 ],
 "metadata": {
  "interpreter": {
   "hash": "da7773864c198c8559e499b8a6d42753464881661d1a635729c4702e1dcc7c46"
  },
  "kernelspec": {
   "display_name": "Python 3.9.7 64-bit",
   "language": "python",
   "name": "python3"
  },
  "language_info": {
   "codemirror_mode": {
    "name": "ipython",
    "version": 3
   },
   "file_extension": ".py",
   "mimetype": "text/x-python",
   "name": "python",
   "nbconvert_exporter": "python",
   "pygments_lexer": "ipython3",
   "version": "3.9.9"
  },
  "orig_nbformat": 4
 },
 "nbformat": 4,
 "nbformat_minor": 2
}
